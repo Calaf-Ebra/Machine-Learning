{
  "nbformat": 4,
  "nbformat_minor": 0,
  "metadata": {
    "colab": {
      "private_outputs": true,
      "provenance": []
    },
    "kernelspec": {
      "name": "python3",
      "display_name": "Python 3"
    },
    "language_info": {
      "name": "python"
    }
  },
  "cells": [
    {
      "cell_type": "code",
      "execution_count": null,
      "metadata": {
        "id": "QFITlcOGkNvU"
      },
      "outputs": [],
      "source": [
        "import numpy as np\n",
        "import pandas as pd\n",
        "import matplotlib.pyplot as plt\n",
        "import seaborn as sn\n",
        "sn.set()\n",
        "from sklearn.linear_model import LinearRegression"
      ]
    },
    {
      "cell_type": "code",
      "source": [
        "from google.colab import files\n",
        "uploaded = files.upload()"
      ],
      "metadata": {
        "id": "dT_wdjMrkaHr"
      },
      "execution_count": null,
      "outputs": []
    },
    {
      "cell_type": "code",
      "source": [
        "raw = pd.read_csv('RL_slr.csv')\n",
        "data = pd.DataFrame(raw)\n",
        "data.head()"
      ],
      "metadata": {
        "id": "bx7gVB19kcWG"
      },
      "execution_count": null,
      "outputs": []
    },
    {
      "cell_type": "markdown",
      "source": [
        "Preprocessing"
      ],
      "metadata": {
        "id": "Gh0rZ76JnLAg"
      }
    },
    {
      "cell_type": "code",
      "source": [
        "data.describe(include ='all')\n",
        "## include all will do for cato data too"
      ],
      "metadata": {
        "id": "xsgr20l9nNyv"
      },
      "execution_count": null,
      "outputs": []
    },
    {
      "cell_type": "code",
      "source": [
        "data = raw.drop(['Model'],axis=1)"
      ],
      "metadata": {
        "id": "rFltDyrinx1s"
      },
      "execution_count": null,
      "outputs": []
    },
    {
      "cell_type": "code",
      "source": [
        "data.isnull().sum()"
      ],
      "metadata": {
        "id": "auIaMoscoI_N"
      },
      "execution_count": null,
      "outputs": []
    },
    {
      "cell_type": "code",
      "source": [
        "no_MV = data.dropna(axis=0)"
      ],
      "metadata": {
        "id": "vvpsl4yloYd8"
      },
      "execution_count": null,
      "outputs": []
    },
    {
      "cell_type": "code",
      "source": [
        "no_MV.describe()"
      ],
      "metadata": {
        "id": "YszlRn3moiFP"
      },
      "execution_count": null,
      "outputs": []
    },
    {
      "cell_type": "markdown",
      "source": [
        "PDFs"
      ],
      "metadata": {
        "id": "FJ0A-WNfoqbc"
      }
    },
    {
      "cell_type": "code",
      "source": [
        "sn.distplot(no_MV['Price'])"
      ],
      "metadata": {
        "id": "v7T_ynSOorlP"
      },
      "execution_count": null,
      "outputs": []
    },
    {
      "cell_type": "code",
      "source": [
        "### Dealing with outliers by removing top 10%\n",
        "q = no_MV['Price'].quantile(0.99)\n",
        "data_1 = no_MV[no_MV['Price']<q]\n",
        "data_1.describe(include='all')"
      ],
      "metadata": {
        "id": "1bMYzSqFpFHv"
      },
      "execution_count": null,
      "outputs": []
    },
    {
      "cell_type": "code",
      "source": [
        "sn.distplot(data_1['Price'])"
      ],
      "metadata": {
        "id": "cn9ouUXvqPK6"
      },
      "execution_count": null,
      "outputs": []
    },
    {
      "cell_type": "code",
      "source": [
        "sn.distplot(data_1['Mileage'])"
      ],
      "metadata": {
        "id": "yrAGm4j5xgMP"
      },
      "execution_count": null,
      "outputs": []
    },
    {
      "cell_type": "code",
      "source": [
        "q= data_1['Mileage'].quantile(0.99) ## select data of 99 quantile of data..as 1 % is outlier\n",
        "data_2 =data_1[data_1['Mileage']<q]\n"
      ],
      "metadata": {
        "id": "AcSapBD4qbib"
      },
      "execution_count": null,
      "outputs": []
    },
    {
      "cell_type": "code",
      "source": [
        "sn.distplot(data_2['Mileage'])"
      ],
      "metadata": {
        "id": "KhdblYVJqbXN"
      },
      "execution_count": null,
      "outputs": []
    },
    {
      "cell_type": "code",
      "source": [
        "sn.distplot(no_MV['EngineV'])"
      ],
      "metadata": {
        "id": "KQALj4PyxprB"
      },
      "execution_count": null,
      "outputs": []
    },
    {
      "cell_type": "code",
      "source": [
        "data_3 =data_2[data_2['EngineV']<6.5]"
      ],
      "metadata": {
        "id": "LJ5o1O4VyHGW"
      },
      "execution_count": null,
      "outputs": []
    },
    {
      "cell_type": "code",
      "source": [
        "sn.distplot(data_3['EngineV'])"
      ],
      "metadata": {
        "id": "3Z1uNnjFx7X6"
      },
      "execution_count": null,
      "outputs": []
    },
    {
      "cell_type": "code",
      "source": [
        "sn.distplot(no_MV['Year'])"
      ],
      "metadata": {
        "id": "Gy7oqhvMzoRi"
      },
      "execution_count": null,
      "outputs": []
    },
    {
      "cell_type": "code",
      "source": [
        "q =data_3['Year'].quantile(0.01)\n",
        "data_4=data_3[data_3['Year']>q]"
      ],
      "metadata": {
        "id": "NwMfpGmJzxP1"
      },
      "execution_count": null,
      "outputs": []
    },
    {
      "cell_type": "code",
      "source": [
        "sn.distplot(data_4['Year'])"
      ],
      "metadata": {
        "id": "nf_vMNYn0NVV"
      },
      "execution_count": null,
      "outputs": []
    },
    {
      "cell_type": "code",
      "source": [
        "cleaned_data= data_4.reset_index(drop=True) ### drop to ignore all the old indexes"
      ],
      "metadata": {
        "id": "lOcjDlC-0Utd"
      },
      "execution_count": null,
      "outputs": []
    },
    {
      "cell_type": "code",
      "source": [
        "cleaned_data.describe()"
      ],
      "metadata": {
        "id": "_tiF76sB0nrP"
      },
      "execution_count": null,
      "outputs": []
    },
    {
      "cell_type": "markdown",
      "source": [
        "OLS Assumpations"
      ],
      "metadata": {
        "id": "PVE-yYfh2Xha"
      }
    },
    {
      "cell_type": "code",
      "source": [
        "f, (ax1,ax2,ax3) = plt.subplots(1, 3,sharey=True,figsize=(15,3))\n",
        "ax1.scatter(cleaned_data['Year'],cleaned_data['Price'])\n",
        "ax1.set_title('Price and Year')\n",
        "ax2.scatter(cleaned_data['EngineV'],cleaned_data['Price'])\n",
        "ax2.set_title('Price and EingineV')\n",
        "ax3.scatter(cleaned_data['Mileage'],cleaned_data['Price'])\n",
        "ax3.set_title('Price and Milleage')\n",
        "plt.show()"
      ],
      "metadata": {
        "id": "IVwtRA4s2bgN"
      },
      "execution_count": null,
      "outputs": []
    },
    {
      "cell_type": "markdown",
      "source": [
        "The above patterns are not linaer so we have to transfornm"
      ],
      "metadata": {
        "id": "1PHltrqa4IKt"
      }
    },
    {
      "cell_type": "code",
      "source": [
        "sn.distplot(cleaned_data['Price'])\n",
        "\n",
        "## you can see Price daat is not linaer which affects others also"
      ],
      "metadata": {
        "id": "tZs6_Vm34PKM"
      },
      "execution_count": null,
      "outputs": []
    },
    {
      "cell_type": "markdown",
      "source": [
        "Relaxing the assumputions"
      ],
      "metadata": {
        "id": "63ecQTIo4pm2"
      }
    },
    {
      "cell_type": "code",
      "source": [
        "## Use log transformation\n",
        "log_price = np.log(cleaned_data['Price'])\n",
        "cleaned_data['Log_Price'] = log_price\n",
        "cleaned_data"
      ],
      "metadata": {
        "id": "kKqd5jqS4oMs"
      },
      "execution_count": null,
      "outputs": []
    },
    {
      "cell_type": "code",
      "source": [
        "f, (ax1,ax2,ax3) = plt.subplots(1, 3,sharey=True,figsize=(15,3))\n",
        "ax1.scatter(cleaned_data['Year'],cleaned_data['Log_Price'])\n",
        "ax1.set_title('Price and Year')\n",
        "ax2.scatter(cleaned_data['EngineV'],cleaned_data['Log_Price'])\n",
        "ax2.set_title('Price and EingineV')\n",
        "ax3.scatter(cleaned_data['Mileage'],cleaned_data['Log_Price'])\n",
        "ax3.set_title('Price and Milleage')\n",
        "plt.show()"
      ],
      "metadata": {
        "id": "bBqDhmtO5Ojz"
      },
      "execution_count": null,
      "outputs": []
    },
    {
      "cell_type": "code",
      "source": [
        "cleaned_data= cleaned_data.drop(['Price'], axis=1)"
      ],
      "metadata": {
        "id": "yKpHQedS5duM"
      },
      "execution_count": null,
      "outputs": []
    },
    {
      "cell_type": "code",
      "source": [
        "cleaned_data"
      ],
      "metadata": {
        "id": "cdW0IvMj5lx6"
      },
      "execution_count": null,
      "outputs": []
    },
    {
      "cell_type": "code",
      "source": [
        "## Check for Multicolinearity\n",
        "cleaned_data.columns.values"
      ],
      "metadata": {
        "id": "SgdWYlNr6Mvx"
      },
      "execution_count": null,
      "outputs": []
    },
    {
      "cell_type": "code",
      "source": [
        "## SK learn can be used to check it\n",
        "from statsmodels.stats.outliers_influence import variance_inflation_factor\n",
        "vars = cleaned_data[['Mileage','EngineV','Year']]\n",
        "vif = pd.DataFrame()\n",
        "vif['VIF'] = [variance_inflation_factor(vars.values,i) for i in range (vars.shape[1])]\n",
        "vif['Features'] = vars.columns\n",
        "# a VIF of 1 means no multi_colinearity\n",
        "## between 1 and 5 is good\n",
        "vif"
      ],
      "metadata": {
        "id": "u0Ngn_2u6o0O"
      },
      "execution_count": null,
      "outputs": []
    },
    {
      "cell_type": "code",
      "source": [
        "no_MC = cleaned_data.drop(['Year'],axis =True)"
      ],
      "metadata": {
        "id": "SxzK3cbP79mJ"
      },
      "execution_count": null,
      "outputs": []
    },
    {
      "cell_type": "markdown",
      "source": [
        "Dummies\n",
        "\n",
        "The number of dummies should be n-1 dummies becuase  the if all are 0 it menas it is the one we left behind\n",
        "\n"
      ],
      "metadata": {
        "id": "i7QuREaC89nB"
      }
    },
    {
      "cell_type": "code",
      "source": [
        "dum_data = pd.get_dummies(no_MC,drop_first=True) ## drop first is n-1\n",
        "dum_data"
      ],
      "metadata": {
        "id": "S_KfxQyh8-_Y"
      },
      "execution_count": null,
      "outputs": []
    },
    {
      "cell_type": "markdown",
      "source": [
        "Rearrange a bit"
      ],
      "metadata": {
        "id": "1uTxnAnt970k"
      }
    },
    {
      "cell_type": "code",
      "source": [
        "dum_data.columns.values"
      ],
      "metadata": {
        "id": "bkq-xMAb-Akw"
      },
      "execution_count": null,
      "outputs": []
    },
    {
      "cell_type": "code",
      "source": [
        "cols = ['Log_Price', 'Mileage', 'EngineV', 'Brand_BMW',\n",
        "       'Brand_Mercedes-Benz', 'Brand_Mitsubishi', 'Brand_Renault',\n",
        "       'Brand_Toyota', 'Brand_Volkswagen', 'Body_hatch', 'Body_other',\n",
        "       'Body_sedan', 'Body_vagon', 'Body_van', 'Engine Type_Gas',\n",
        "       'Engine Type_Other', 'Engine Type_Petrol', 'Registration_yes']"
      ],
      "metadata": {
        "id": "Z2nROsLa-Rqe"
      },
      "execution_count": null,
      "outputs": []
    },
    {
      "cell_type": "code",
      "source": [
        "ready_data = dum_data[cols]\n",
        "ready_data.head()"
      ],
      "metadata": {
        "id": "s7s0i2Yd-pV9"
      },
      "execution_count": null,
      "outputs": []
    },
    {
      "cell_type": "markdown",
      "source": [
        "Regression"
      ],
      "metadata": {
        "id": "6K4poPKM_FrU"
      }
    },
    {
      "cell_type": "code",
      "source": [
        "target = ready_data['Log_Price']\n",
        "inputs = ready_data.drop(['Log_Price'],axis=1)"
      ],
      "metadata": {
        "id": "uzJdKpKl_JCp"
      },
      "execution_count": null,
      "outputs": []
    },
    {
      "cell_type": "markdown",
      "source": [
        "Scale The Data"
      ],
      "metadata": {
        "id": "Unndj9W6QrYm"
      }
    },
    {
      "cell_type": "code",
      "source": [
        "from sklearn.preprocessing import StandardScaler\n",
        "scaler = StandardScaler()\n",
        "scaler.fit(inputs)\n"
      ],
      "metadata": {
        "id": "_uBNs0oJQtOw"
      },
      "execution_count": null,
      "outputs": []
    },
    {
      "cell_type": "code",
      "source": [
        "scaled_inputs = scaler.transform(inputs)"
      ],
      "metadata": {
        "id": "Gr3vXbS3RIv6"
      },
      "execution_count": null,
      "outputs": []
    },
    {
      "cell_type": "markdown",
      "source": [
        "Traing and Testing Split"
      ],
      "metadata": {
        "id": "Ll7N2NrvRSBf"
      }
    },
    {
      "cell_type": "code",
      "source": [
        "from sklearn.model_selection import train_test_split\n",
        "x_train, x_test, y_train, y_test= train_test_split(scaled_inputs, target,test_size=0.2,random_state=42)"
      ],
      "metadata": {
        "id": "bxDsijz1RbxE"
      },
      "execution_count": null,
      "outputs": []
    },
    {
      "cell_type": "markdown",
      "source": [
        "Regression Model"
      ],
      "metadata": {
        "id": "uoq1i-BGSQhR"
      }
    },
    {
      "cell_type": "code",
      "source": [
        "REG = LinearRegression()\n",
        "REG.fit(x_train,y_train)"
      ],
      "metadata": {
        "id": "H2F6mMRgSSbo"
      },
      "execution_count": null,
      "outputs": []
    },
    {
      "cell_type": "code",
      "source": [
        "y_hat = REG.predict(x_train)"
      ],
      "metadata": {
        "id": "C58L4cynSn0g"
      },
      "execution_count": null,
      "outputs": []
    },
    {
      "cell_type": "code",
      "source": [
        "plt.scatter(y_train, y_hat)\n",
        "plt.xlabel('Targets (Y Train)',size=19)\n",
        "plt.ylabel('Predictions (Y_Hat)',size=19)\n",
        "plt.xlim(6,13)\n",
        "plt.ylim(6,13)\n",
        "plt.show()"
      ],
      "metadata": {
        "id": "EsddsZOVSwrf"
      },
      "execution_count": null,
      "outputs": []
    },
    {
      "cell_type": "code",
      "source": [
        "sn.distplot(y_train - y_hat)\n",
        "plt.title('Residual Plot',size=20)"
      ],
      "metadata": {
        "id": "jkBAWO9aTnMh"
      },
      "execution_count": null,
      "outputs": []
    },
    {
      "cell_type": "code",
      "source": [
        "REG.score(x_train,y_train)"
      ],
      "metadata": {
        "id": "Do2SyjNUUKKK"
      },
      "execution_count": null,
      "outputs": []
    },
    {
      "cell_type": "markdown",
      "source": [
        "Weights and Bias"
      ],
      "metadata": {
        "id": "DmAgT-NyUUcv"
      }
    },
    {
      "cell_type": "code",
      "source": [
        "REG.intercept_"
      ],
      "metadata": {
        "id": "_S5r1h6NUWT-"
      },
      "execution_count": null,
      "outputs": []
    },
    {
      "cell_type": "code",
      "source": [
        "REG.coef_"
      ],
      "metadata": {
        "id": "5D50OJZuUeuN"
      },
      "execution_count": null,
      "outputs": []
    },
    {
      "cell_type": "code",
      "source": [
        "tab = pd.DataFrame(inputs.columns.values, columns = ['Features'])\n",
        "tab['Weights'] = REG.coef_\n",
        "tab\n",
        "\n",
        "#### Conntinuos Vars\n",
        "## A positive weifght means the more the feature increases the more the target(Price) increases\n",
        "## A negative ######################################################################## decreases\n",
        "\n",
        "#### Dummy Vars\n",
        "## A positive weight shows that the respective catogary is more expensive than the benchmark(Audi)\n",
        "## A Negative weight shows that the respective catogary is less expensive than the benchmark(Audi)\n",
        "##which was dropped by n-1 rule\n",
        "\n",
        "\n",
        "###Never Compare dummies with contous vars.. dummies are for benchmark"
      ],
      "metadata": {
        "id": "llhO8AQ7Uk3M"
      },
      "execution_count": null,
      "outputs": []
    },
    {
      "cell_type": "markdown",
      "source": [
        "Testing"
      ],
      "metadata": {
        "id": "sJQ0p0-oXGBY"
      }
    },
    {
      "cell_type": "code",
      "source": [
        "y_hat_test = REG.predict(x_test)"
      ],
      "metadata": {
        "id": "DB39g0ntXJ1M"
      },
      "execution_count": null,
      "outputs": []
    },
    {
      "cell_type": "code",
      "source": [
        "plt.scatter(y_test,y_hat_test,alpha=0.2)\n",
        "plt.xlabel('Targets (Y Tet)',size = 20)\n",
        "plt.ylabel('Predictions (Y Test)',size = 20)\n",
        "plt.xlim(6,13)\n",
        "plt.ylim(6,13)\n",
        "plt.show()"
      ],
      "metadata": {
        "id": "0Uhdz1P0XSWq"
      },
      "execution_count": null,
      "outputs": []
    },
    {
      "cell_type": "code",
      "source": [
        "df_pf = pd.DataFrame(np.exp(y_hat_test),columns=['Predictions'])\n",
        "df_pf.head()"
      ],
      "metadata": {
        "id": "QAOwfl3zYUSn"
      },
      "execution_count": null,
      "outputs": []
    },
    {
      "cell_type": "code",
      "source": [
        "df_pf['Target'] = np.exp(y_test)\n",
        "df_pf.head()"
      ],
      "metadata": {
        "id": "j5GfBXHPZISL"
      },
      "execution_count": null,
      "outputs": []
    },
    {
      "cell_type": "code",
      "source": [
        "y_test = y_test.reset_index(drop=True)"
      ],
      "metadata": {
        "id": "ZJ5zV435ZYgK"
      },
      "execution_count": null,
      "outputs": []
    },
    {
      "cell_type": "code",
      "source": [
        "df_pf['Target'] = np.exp(y_test)\n",
        "df_pf.head()"
      ],
      "metadata": {
        "id": "NymXH5O_Zp5A"
      },
      "execution_count": null,
      "outputs": []
    },
    {
      "cell_type": "code",
      "source": [
        "df_pf['Residual (Difference)'] = df_pf['Target'] - df_pf['Predictions']"
      ],
      "metadata": {
        "id": "NArIBzlzZwlB"
      },
      "execution_count": null,
      "outputs": []
    },
    {
      "cell_type": "code",
      "source": [
        "df_pf['Difference in %'] = np.absolute(df_pf['Residual (Difference)']/df_pf['Target']*100)\n",
        "\n",
        "##np.absute to show absoulte number and not rounded"
      ],
      "metadata": {
        "id": "RwhCeL0EaWJM"
      },
      "execution_count": null,
      "outputs": []
    },
    {
      "cell_type": "code",
      "source": [
        "df_pf"
      ],
      "metadata": {
        "id": "tEvYVst6a5n_"
      },
      "execution_count": null,
      "outputs": []
    },
    {
      "cell_type": "code",
      "source": [
        "df_pf.describe()"
      ],
      "metadata": {
        "id": "tBqr7xOya-h7"
      },
      "execution_count": null,
      "outputs": []
    },
    {
      "cell_type": "code",
      "source": [
        "pd.options.display.max_rows = 999\n",
        "pd.set_option('display.float_format',lambda x : '%.2f' % x)\n",
        "df_pf.sort_values(by=['Difference in %'])"
      ],
      "metadata": {
        "id": "NytVhTW-bUVh"
      },
      "execution_count": null,
      "outputs": []
    }
  ]
}