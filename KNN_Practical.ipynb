{
  "nbformat": 4,
  "nbformat_minor": 0,
  "metadata": {
    "colab": {
      "private_outputs": true,
      "provenance": []
    },
    "kernelspec": {
      "name": "python3",
      "display_name": "Python 3"
    },
    "language_info": {
      "name": "python"
    }
  },
  "cells": [
    {
      "cell_type": "code",
      "execution_count": null,
      "metadata": {
        "id": "E-HRipCZJz8b"
      },
      "outputs": [],
      "source": [
        "import pandas as pd\n",
        "import numpy as np\n",
        "import matplotlib.pyplot as plt\n",
        "import seaborn as sns\n",
        "sns.set()\n",
        "from sklearn.cluster import KMeans"
      ]
    },
    {
      "cell_type": "code",
      "source": [
        "from google.colab import files\n",
        "fl = files.upload()"
      ],
      "metadata": {
        "id": "aRlwputHKAhY"
      },
      "execution_count": null,
      "outputs": []
    },
    {
      "cell_type": "code",
      "source": [
        "data = pd.read_csv('Market.csv')\n",
        "data.head()"
      ],
      "metadata": {
        "id": "nra5ElNHKD6b"
      },
      "execution_count": null,
      "outputs": []
    },
    {
      "cell_type": "code",
      "source": [
        "plt.scatter(data['Satisfaction'],data['Loyalty'])\n",
        "plt.xlabel('Satisification')\n",
        "plt.ylabel('Loyality')\n",
        "plt.show()"
      ],
      "metadata": {
        "id": "Z4MbsGaHKwMd"
      },
      "execution_count": null,
      "outputs": []
    },
    {
      "cell_type": "code",
      "source": [
        "x = data.copy()"
      ],
      "metadata": {
        "id": "ruMzCtgnLbIZ"
      },
      "execution_count": null,
      "outputs": []
    },
    {
      "cell_type": "code",
      "source": [
        "KM = KMeans(2)\n",
        "KM.fit(x)"
      ],
      "metadata": {
        "id": "C8OXeANpLdzj"
      },
      "execution_count": null,
      "outputs": []
    },
    {
      "cell_type": "code",
      "source": [
        "clusters = x.copy()\n"
      ],
      "metadata": {
        "id": "tD-X_CYMLlyI"
      },
      "execution_count": null,
      "outputs": []
    },
    {
      "cell_type": "code",
      "source": [
        "clusters['Cluster_Pred'] = KM.fit_predict(x)"
      ],
      "metadata": {
        "id": "7RiP7GveL7d1"
      },
      "execution_count": null,
      "outputs": []
    },
    {
      "cell_type": "code",
      "source": [
        "plt.scatter(clusters['Satisfaction'],clusters['Loyalty'],c=clusters['Cluster_Pred'],cmap='rainbow')\n",
        "plt.xlabel('Satisification')\n",
        "plt.ylabel('Loyality')\n",
        "plt.show()"
      ],
      "metadata": {
        "id": "bKVp2ScDMCNs"
      },
      "execution_count": null,
      "outputs": []
    },
    {
      "cell_type": "markdown",
      "source": [
        "Standarize the vars"
      ],
      "metadata": {
        "id": "I9iXoQ3QNFI8"
      }
    },
    {
      "cell_type": "code",
      "source": [
        "from sklearn import preprocessing\n",
        "x_scaled = preprocessing.scale(x)\n",
        "x_scaled"
      ],
      "metadata": {
        "id": "YRtJEH5QNIqc"
      },
      "execution_count": null,
      "outputs": []
    },
    {
      "cell_type": "markdown",
      "source": [
        "**The Elbow Method**\n",
        "\n",
        "To check how many clusters we need"
      ],
      "metadata": {
        "id": "aOONcxrdNiNs"
      }
    },
    {
      "cell_type": "code",
      "source": [
        "wcss =[]\n",
        "for i in range(1,10):\n",
        "    KM = KMeans(i)\n",
        "    KM.fit(x_scaled)\n",
        "    wcss.append(KM.inertia_)\n",
        "wcss"
      ],
      "metadata": {
        "id": "eET8Gpi5NseE"
      },
      "execution_count": null,
      "outputs": []
    },
    {
      "cell_type": "code",
      "source": [
        "plt.plot(range(1,10),wcss)\n",
        "plt.xlabel('Number of Clusters')\n",
        "plt.ylabel('WCSS')\n",
        "plt.show()"
      ],
      "metadata": {
        "id": "Z0BmKPrsOOcg"
      },
      "execution_count": null,
      "outputs": []
    },
    {
      "cell_type": "markdown",
      "source": [
        "Exploring different clusters based on above WCSS"
      ],
      "metadata": {
        "id": "wHahoEaAO1sY"
      }
    },
    {
      "cell_type": "code",
      "source": [
        "###Change # and run graph\n",
        "KM_new= KMeans(4)\n",
        "KM_new.fit(x_scaled)\n",
        "clus_new = x.copy()\n",
        "clus_new['Clus_Pred'] = KM_new.fit_predict(x_scaled)\n"
      ],
      "metadata": {
        "id": "Yr-PxRd9O61f"
      },
      "execution_count": null,
      "outputs": []
    },
    {
      "cell_type": "code",
      "source": [
        "plt.scatter(clus_new['Satisfaction'],clus_new['Loyalty'],c=clus_new['Clus_Pred'],cmap='rainbow')\n",
        "plt.xlabel('Satisification')\n",
        "plt.ylabel('Loyality')\n",
        "plt.show()"
      ],
      "metadata": {
        "id": "BJQKYZ4vP7PU"
      },
      "execution_count": null,
      "outputs": []
    }
  ]
}